{
 "cells": [
  {
   "cell_type": "markdown",
   "metadata": {},
   "source": [
    "# ADA Final Project \n"
   ]
  },
  {
   "cell_type": "markdown",
   "metadata": {},
   "source": [
    "## 1. Data Preprocessing"
   ]
  },
  {
   "cell_type": "code",
   "execution_count": 45,
   "metadata": {},
   "outputs": [
    {
     "name": "stdout",
     "output_type": "stream",
     "text": [
      "(93607, 9)\n",
      "reviewText        0.000096\n",
      "unixReviewTime    0.000000\n",
      "summary           0.000000\n",
      "reviewerID        0.000000\n",
      "reviewTime        0.000000\n",
      "overall           0.000000\n",
      "helpful           0.000000\n",
      "asin              0.000000\n",
      "Unnamed: 0        0.000000\n",
      "dtype: float64\n",
      "(93598, 9)\n",
      "(91238, 9)\n"
     ]
    },
    {
     "name": "stderr",
     "output_type": "stream",
     "text": [
      "/anaconda3/lib/python3.6/site-packages/ipykernel_launcher.py:28: SettingWithCopyWarning: \n",
      "A value is trying to be set on a copy of a slice from a DataFrame\n",
      "\n",
      "See the caveats in the documentation: http://pandas.pydata.org/pandas-docs/stable/indexing.html#indexing-view-versus-copy\n"
     ]
    }
   ],
   "source": [
    "# Load raw data\n",
    "import pandas as pd\n",
    "import numpy as np \n",
    "import re\n",
    "beauty_raw = pd.read_csv(\"../data/reviews_Beauty_2013_2014.csv\")\n",
    "print(beauty_raw.shape)\n",
    "\n",
    "productDF = pd.read_csv(\"../data/product_sub.csv\") # 储存产品名字的df\n",
    "productDF.head(5)\n",
    "\n",
    "# 把 overall 转换成整数\n",
    "beauty_raw.overall = beauty_raw.overall.astype(int, inplace = True)\n",
    "\n",
    "\n",
    "# 检查 missing data & 删掉\n",
    "percent = (beauty_raw.isnull().sum()/len(beauty_raw)).sort_values(ascending = False)\n",
    "print(percent)\n",
    "beauty1 = beauty_raw.loc[beauty_raw.reviewText.notnull(),:]\n",
    "print(beauty1.shape)\n",
    "\n",
    "# 删掉只评论过一次的人\n",
    "filter1 = beauty1.groupby(beauty1.reviewerID).count().overall !=1\n",
    "beauty = beauty1.loc[beauty1.reviewerID.isin(filter1.index[filter1.values].values),:]\n",
    "print(beauty.shape)\n",
    "\n",
    "# 把 helpful 转化成比例\n",
    "helpful_ratio = beauty.helpful.map(lambda x: int(re.findall(r'\\d+',x)[0])/int(re.findall(r'\\d+',x)[1]) \\\n",
    "                                   if int(re.findall(r'\\d+',x)[1]) !=0 else np.nan )\n",
    "beauty.loc['helpfulRatio'] = helpful_ratio\n",
    "# pd.concat([helpful_ratio,beauty.helpful], axis=1)\n",
    "\n",
    "# ## 保存数据\n",
    "beauty.to_csv(\"../data/Beauty.csv\")\n",
    "\n",
    "\n",
    "# 有的productID 不是以B开始的，怎么办？\n",
    "#beauty_raw.iloc[beauty_raw.ProductID.loc[beauty_raw.ProductID.str[0] != 'B'].index.values]\n",
    "\n",
    "# 单独生成一个 user,product,rating csv\n",
    "beauty_rating = beauty[['reviewerID','asin','overall']]\n",
    "beauty_rating\n",
    "beauty_rating.to_csv(\"../data/Beauty_rating.csv\")\n",
    "\n",
    "#pd.concat([helpful_ratio,beauty.helpful], axis=1)\n"
   ]
  },
  {
   "cell_type": "code",
   "execution_count": 73,
   "metadata": {},
   "outputs": [
    {
     "data": {
      "image/jpeg": "[encoded data removed]",
      "text/plain": [
       "<IPython.core.display.Image object>"
      ]
     },
     "metadata": {
      "image/jpeg": {
       "unconfined": true,
       "width": 100
      }
     },
     "output_type": "display_data"
    }
   ],
   "source": [
    "productDF = pd.read_csv(\"../data/product_sub.csv\")\n",
    "productDF.head(5)\n",
    "URL = productDF.loc[1,'imUrl']\n",
    "\n",
    "\n",
    "# from PIL import Image\n",
    "# import urllib.request\n",
    "\n",
    "# with urllib.request.urlopen(URL) as url:\n",
    "#     with open('temp.jpg', 'wb') as f:\n",
    "#         f.write(url.read())\n",
    "\n",
    "# img = Image.open('temp.jpg')\n",
    "\n"
   ]
  },
  {
   "cell_type": "markdown",
   "metadata": {},
   "source": [
    "## 2. EDA"
   ]
  },
  {
   "cell_type": "code",
   "execution_count": 7,
   "metadata": {},
   "outputs": [
    {
     "name": "stdout",
     "output_type": "stream",
     "text": [
      "Number of users = 15007 | Number of items = 11347\n"
     ]
    }
   ],
   "source": [
    "n_users = beauty.reviewerID.unique().shape[0]\n",
    "n_items = beauty.asin.unique().shape[0]\n",
    "print ('Number of users = ' + str(n_users) + ' | Number of items = ' + str(n_items)  )"
   ]
  },
  {
   "cell_type": "code",
   "execution_count": 8,
   "metadata": {},
   "outputs": [
    {
     "data": {
      "text/plain": [
       "Text(0,0.5,'Number of ratings')"
      ]
     },
     "execution_count": 8,
     "metadata": {},
     "output_type": "execute_result"
    },
    {
     "data": {
      "image/png": "[encoded data removed]",
      "text/plain": [
       "<matplotlib.figure.Figure at 0x121c1c160>"
      ]
     },
     "metadata": {},
     "output_type": "display_data"
    }
   ],
   "source": [
    "import seaborn as sns\n",
    "import matplotlib.pyplot as plt\n",
    "plt.figure()\n",
    "sns.barplot(beauty.groupby(beauty.overall).count().index,beauty.groupby(beauty.overall).count().asin)\n",
    "plt.title('Customer Rating barplot')\n",
    "plt.ylabel('Number of ratings')"
   ]
  },
  {
   "cell_type": "code",
   "execution_count": 9,
   "metadata": {},
   "outputs": [],
   "source": [
    "# sns.distplot(helpful_ratio,norm_hist = True,kde = True,bins = 118)"
   ]
  },
  {
   "cell_type": "markdown",
   "metadata": {},
   "source": [
    "## 3. 协同过滤推荐系统\n",
    "\n",
    "1. Split the beauty_rating into training(70%) and test set(30%)\n",
    "2. Create a user-item matrix\n"
   ]
  },
  {
   "cell_type": "code",
   "execution_count": 10,
   "metadata": {},
   "outputs": [
    {
     "data": {
      "text/plain": [
       "(63867, 3)"
      ]
     },
     "execution_count": 10,
     "metadata": {},
     "output_type": "execute_result"
    }
   ],
   "source": [
    "beauty_rating.dropna(axis = 0, subset=['reviewerID'])\n",
    "from sklearn.model_selection import train_test_split\n",
    "training, test = train_test_split(beauty_rating, test_size = 0.3,random_state = 1)"
   ]
  },
  {
   "cell_type": "code",
   "execution_count": null,
   "metadata": {},
   "outputs": [],
   "source": [
    "# User-item matrix \n",
    "# training_matrix = training.pivot(index = 'reviewerID', columns ='asin', values = 'overall').fillna(np.nan)\n",
    "# ## Pearson\n",
    "# import time\n",
    "# tick = time.time()\n",
    "# training_pearson = training_matrix.T.corr(method = \"pearson\")\n",
    "# tock = time.time()\n",
    "# print(tock - tick)"
   ]
  },
  {
   "cell_type": "markdown",
   "metadata": {},
   "source": [
    "### Store the data in a dictionary"
   ]
  },
  {
   "cell_type": "code",
   "execution_count": 11,
   "metadata": {},
   "outputs": [],
   "source": [
    "listOfDictonaries=[]\n",
    "indexMap = {}\n",
    "reverseIndexMap = {}\n",
    "ptr=0;\n",
    "testdf=training[['reviewerID','overall']].groupby(training['asin'])\n",
    "for groupKey in testdf.groups.keys():\n",
    "    tempDict={}\n",
    "\n",
    "    groupDF = testdf.get_group(groupKey)\n",
    "    for i in range(0,len(groupDF)):\n",
    "        tempDict[groupDF.iloc[i,0]]=groupDF.iloc[i,1]\n",
    "    indexMap[ptr]=groupKey\n",
    "    reverseIndexMap[groupKey] = ptr\n",
    "    ptr=ptr+1\n",
    "    listOfDictonaries.append(tempDict)\n",
    "\n",
    "from sklearn.feature_extraction import DictVectorizer\n",
    "dictVectorizer = DictVectorizer(sparse=True)\n",
    "vector = dictVectorizer.fit_transform(listOfDictonaries)\n",
    "\n",
    "\n",
    "from sklearn.metrics.pairwise import cosine_similarity\n",
    "pairwiseSimilarity = cosine_similarity(vector)\n",
    "\n"
   ]
  },
  {
   "cell_type": "code",
   "execution_count": 91,
   "metadata": {},
   "outputs": [
    {
     "name": "stdout",
     "output_type": "stream",
     "text": [
      "=================INPUT ASIN=========================\n",
      "ASIN: B001F51TNQ\n",
      "PRODUCT: Olay Night Of Olay Firming Cream 2.0 Oz (Pack of 3)\n",
      "=================RECOMMENDATIONS=====================\n",
      "ASIN: B0012J135O\n",
      "PRODUCT: Olay Complete Night Fortifying Moisture Cream 2 Oz\n"
     ]
    },
    {
     "data": {
      "image/jpeg": "[encoded data removed]",
      "text/plain": [
       "<IPython.core.display.Image object>"
      ]
     },
     "metadata": {
      "image/jpeg": {
       "height": 50,
       "unconfined": true,
       "width": 100
      }
     },
     "output_type": "display_data"
    },
    {
     "name": "stdout",
     "output_type": "stream",
     "text": [
      "-----------------------------------------------------------------\n",
      "ASIN: B0056AY5GY\n",
      "PRODUCT: Clean &amp; Clear Deep Action Exfoliating Scrub Oil-Free, 5 Ounce (Pack of 2)\n"
     ]
    },
    {
     "data": {
      "image/jpeg": "[encoded data removed]",
      "text/plain": [
       "<IPython.core.display.Image object>"
      ]
     },
     "metadata": {
      "image/jpeg": {
       "height": 50,
       "unconfined": true,
       "width": 100
      }
     },
     "output_type": "display_data"
    },
    {
     "name": "stdout",
     "output_type": "stream",
     "text": [
      "-----------------------------------------------------------------\n",
      "ASIN: B005MIFD3O\n",
      "PRODUCT: John Frieda Frizz Ease Smooth Start Repairing Shampoo, 10 Fluid Ounce (Pack of 2)\n"
     ]
    },
    {
     "data": {
      "image/jpeg": "[encoded data removed]",
      "text/plain": [
       "<IPython.core.display.Image object>"
      ]
     },
     "metadata": {
      "image/jpeg": {
       "height": 50,
       "unconfined": true,
       "width": 100
      }
     },
     "output_type": "display_data"
    },
    {
     "name": "stdout",
     "output_type": "stream",
     "text": [
      "-----------------------------------------------------------------\n",
      "ASIN: B001NH6ZVW\n",
      "PRODUCT: China Glaze Adore 80209 - Nail Polish / Lacquer / Enamel - Romantique Collection\n"
     ]
    },
    {
     "data": {
      "image/jpeg": "[encoded data removed]",
      "text/plain": [
       "<IPython.core.display.Image object>"
      ]
     },
     "metadata": {
      "image/jpeg": {
       "height": 50,
       "unconfined": true,
       "width": 100
      }
     },
     "output_type": "display_data"
    },
    {
     "name": "stdout",
     "output_type": "stream",
     "text": [
      "-----------------------------------------------------------------\n",
      "ASIN: B0013NE2Y8\n",
      "PRODUCT: John Frieda Frizz-Ease Original Serum, 1.69 Ounces\n"
     ]
    },
    {
     "data": {
      "image/jpeg": "[encoded data removed]",
      "text/plain": [
       "<IPython.core.display.Image object>"
      ]
     },
     "metadata": {
      "image/jpeg": {
       "height": 50,
       "unconfined": true,
       "width": 100
      }
     },
     "output_type": "display_data"
    },
    {
     "name": "stdout",
     "output_type": "stream",
     "text": [
      "-----------------------------------------------------------------\n"
     ]
    }
   ],
   "source": [
    "from IPython.core.display import Image, display\n",
    "def printBookDetails(asin):\n",
    "    print(\"ASIN:\",asin)\n",
    "    #print(\"CATEGORY:\", productDF[productDF['asin']==asin]['categories'].values[0])\n",
    "    print(\"PRODUCT:\",productDF[productDF['asin']==asin]['title'].values[0])\n",
    "    URL = productDF[productDF['asin']==asin]['imUrl'].values[0]\n",
    "    display(Image(URL, height =50, width=100, retina = False,unconfined=True))\n",
    "    print(\"-----------------------------------------------------------------\")\n",
    "    \n",
    "\n",
    "\n",
    "def getTopRecommandations(asin):\n",
    "    row = reverseIndexMap[asin]\n",
    "    print(\"=================INPUT ASIN=========================\")\n",
    "    print(\"ASIN:\",asin)\n",
    "    print(\"PRODUCT:\",productDF[productDF['asin']==asin]['title'].values[0])\n",
    "    print(\"=================RECOMMENDATIONS=====================\")\n",
    "    similarBookIDs = [printBookDetails(indexMap[i]) for i in np.argsort(pairwiseSimilarity[row])[-7:-2][::-1]]\n",
    "\n",
    "getTopRecommandations('B001F51TNQ')\n"
   ]
  },
  {
   "cell_type": "code",
   "execution_count": 90,
   "metadata": {},
   "outputs": [],
   "source": [
    "?Image"
   ]
  },
  {
   "cell_type": "code",
   "execution_count": null,
   "metadata": {},
   "outputs": [],
   "source": []
  }
 ],
 "metadata": {
  "kernelspec": {
   "display_name": "Python 3",
   "language": "python",
   "name": "python3"
  },
  "language_info": {
   "codemirror_mode": {
    "name": "ipython",
    "version": 3
   },
   "file_extension": ".py",
   "mimetype": "text/x-python",
   "name": "python",
   "nbconvert_exporter": "python",
   "pygments_lexer": "ipython3",
   "version": "3.6.4"
  }
 },
 "nbformat": 4,
 "nbformat_minor": 2
}
