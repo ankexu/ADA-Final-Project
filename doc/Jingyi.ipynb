{
 "cells": [
  {
   "cell_type": "markdown",
   "metadata": {},
   "source": [
    "# ADA Final Project \n"
   ]
  },
  {
   "cell_type": "markdown",
   "metadata": {},
   "source": [
    "## 1. Data Preprocessing"
   ]
  },
  {
   "cell_type": "code",
   "execution_count": 2,
   "metadata": {},
   "outputs": [
    {
     "name": "stdout",
     "output_type": "stream",
     "text": [
      "(93607, 9)\n",
      "reviewText        0.000096\n",
      "unixReviewTime    0.000000\n",
      "summary           0.000000\n",
      "reviewerID        0.000000\n",
      "reviewTime        0.000000\n",
      "overall           0.000000\n",
      "helpful           0.000000\n",
      "asin              0.000000\n",
      "Unnamed: 0        0.000000\n",
      "dtype: float64\n",
      "(93598, 9)\n",
      "(91238, 9)\n"
     ]
    },
    {
     "name": "stderr",
     "output_type": "stream",
     "text": [
      "/anaconda3/lib/python3.6/site-packages/ipykernel_launcher.py:26: SettingWithCopyWarning: \n",
      "A value is trying to be set on a copy of a slice from a DataFrame\n",
      "\n",
      "See the caveats in the documentation: http://pandas.pydata.org/pandas-docs/stable/indexing.html#indexing-view-versus-copy\n"
     ]
    }
   ],
   "source": [
    "# Load raw data\n",
    "import pandas as pd\n",
    "import numpy as np \n",
    "import re\n",
    "beauty_raw = pd.read_csv(\"../data/reviews_Beauty_2013_2014.csv\")\n",
    "print(beauty_raw.shape)\n",
    "\n",
    "productDF = pd.read_csv(\"../data/product_sub.csv\") # 储存产品名字的df\n",
    "productDF.head(5)\n",
    "\n",
    "# 把 overall 转换成整数\n",
    "beauty_raw.overall = beauty_raw.overall.astype(int, inplace = True)\n",
    "\n",
    "\n",
    "# 检查 missing data & 删掉\n",
    "percent = (beauty_raw.isnull().sum()/len(beauty_raw)).sort_values(ascending = False)\n",
    "print(percent)\n",
    "beauty1 = beauty_raw.loc[beauty_raw.reviewText.notnull(),:]\n",
    "print(beauty1.shape)\n",
    "\n",
    "# 删掉只评论过一次的人\n",
    "filter1 = beauty1.groupby(beauty1.reviewerID).count().overall !=1\n",
    "beauty = beauty1.loc[beauty1.reviewerID.isin(filter1.index[filter1.values].values),:]\n",
    "print(beauty.shape)\n",
    "\n",
    "# 把 helpful 转化成比例\n",
    "helpful_ratio = beauty.helpful.map(lambda x: int(re.findall(r'\\d+',x)[0])/int(re.findall(r'\\d+',x)[1]) \\\n",
    "                                   if int(re.findall(r'\\d+',x)[1]) !=0 else np.nan )\n",
    "beauty.loc['helpfulRatio'] = helpful_ratio\n",
    "# pd.concat([helpful_ratio,beauty.helpful], axis=1)\n",
    "\n",
    "# ## 保存数据\n",
    "beauty.to_csv(\"../data/Beauty.csv\")\n",
    "\n",
    "\n",
    "# 有的productID 不是以B开始的，怎么办？\n",
    "#beauty_raw.iloc[beauty_raw.ProductID.loc[beauty_raw.ProductID.str[0] != 'B'].index.values]\n",
    "\n",
    "# 单独生成一个 user,product,rating csv\n",
    "beauty_rating = beauty[['reviewerID','asin','overall']]\n",
    "beauty_rating\n",
    "beauty_rating.to_csv(\"../data/Beauty_rating.csv\")\n",
    "\n",
    "#pd.concat([helpful_ratio,beauty.helpful], axis=1)\n"
   ]
  },
  {
   "cell_type": "code",
   "execution_count": 7,
   "metadata": {},
   "outputs": [
    {
     "data": {
      "text/html": [
       "<div>\n",
       "<style scoped>\n",
       "    .dataframe tbody tr th:only-of-type {\n",
       "        vertical-align: middle;\n",
       "    }\n",
       "\n",
       "    .dataframe tbody tr th {\n",
       "        vertical-align: top;\n",
       "    }\n",
       "\n",
       "    .dataframe thead th {\n",
       "        text-align: right;\n",
       "    }\n",
       "</style>\n",
       "<table border=\"1\" class=\"dataframe\">\n",
       "  <thead>\n",
       "    <tr style=\"text-align: right;\">\n",
       "      <th></th>\n",
       "      <th>Unnamed: 0</th>\n",
       "      <th>asin</th>\n",
       "      <th>avg.rating</th>\n",
       "      <th>brand</th>\n",
       "      <th>categories</th>\n",
       "      <th>price</th>\n",
       "      <th>salesRank</th>\n",
       "      <th>title</th>\n",
       "    </tr>\n",
       "  </thead>\n",
       "  <tbody>\n",
       "    <tr>\n",
       "      <th>0</th>\n",
       "      <td>1</td>\n",
       "      <td>7806397051</td>\n",
       "      <td>2.50</td>\n",
       "      <td>COKA</td>\n",
       "      <td>[['Beauty', 'Makeup', 'Face', 'Concealers &amp; Ne...</td>\n",
       "      <td>5.04</td>\n",
       "      <td>{'Beauty': 10486}</td>\n",
       "      <td>WAWO 15 Color Professionl Makeup Eyeshadow Cam...</td>\n",
       "    </tr>\n",
       "    <tr>\n",
       "      <th>1</th>\n",
       "      <td>2</td>\n",
       "      <td>9759091062</td>\n",
       "      <td>3.09</td>\n",
       "      <td>Xtreme Brite</td>\n",
       "      <td>[['Beauty', 'Hair Care', 'Styling Products', '...</td>\n",
       "      <td>19.99</td>\n",
       "      <td>{'Beauty': 52254}</td>\n",
       "      <td>Xtreme Brite Brightening Gel 1oz.</td>\n",
       "    </tr>\n",
       "    <tr>\n",
       "      <th>2</th>\n",
       "      <td>3</td>\n",
       "      <td>9788072216</td>\n",
       "      <td>5.00</td>\n",
       "      <td>Prada</td>\n",
       "      <td>[['Beauty', 'Fragrance', \"Women's\", 'Eau de Pa...</td>\n",
       "      <td>65.86</td>\n",
       "      <td>{'Beauty': 78916}</td>\n",
       "      <td>Prada Candy By Prada Eau De Parfum Spray 1.7 O...</td>\n",
       "    </tr>\n",
       "    <tr>\n",
       "      <th>3</th>\n",
       "      <td>4</td>\n",
       "      <td>9790790961</td>\n",
       "      <td>4.60</td>\n",
       "      <td>Versace</td>\n",
       "      <td>[['Beauty', 'Fragrance', \"Women's\", 'Eau de To...</td>\n",
       "      <td>52.33</td>\n",
       "      <td>{'Beauty': 764}</td>\n",
       "      <td>Versace Bright Crystal Eau de Toilette Spray f...</td>\n",
       "    </tr>\n",
       "    <tr>\n",
       "      <th>4</th>\n",
       "      <td>5</td>\n",
       "      <td>9790794231</td>\n",
       "      <td>4.50</td>\n",
       "      <td></td>\n",
       "      <td>[['Beauty', 'Fragrance', \"Women's\", 'Eau de Pa...</td>\n",
       "      <td>NaN</td>\n",
       "      <td>{'Beauty': 142503}</td>\n",
       "      <td>Stella McCartney Stella</td>\n",
       "    </tr>\n",
       "  </tbody>\n",
       "</table>\n",
       "</div>"
      ],
      "text/plain": [
       "   Unnamed: 0        asin  avg.rating         brand  \\\n",
       "0           1  7806397051        2.50          COKA   \n",
       "1           2  9759091062        3.09  Xtreme Brite   \n",
       "2           3  9788072216        5.00         Prada   \n",
       "3           4  9790790961        4.60       Versace   \n",
       "4           5  9790794231        4.50                 \n",
       "\n",
       "                                          categories  price  \\\n",
       "0  [['Beauty', 'Makeup', 'Face', 'Concealers & Ne...   5.04   \n",
       "1  [['Beauty', 'Hair Care', 'Styling Products', '...  19.99   \n",
       "2  [['Beauty', 'Fragrance', \"Women's\", 'Eau de Pa...  65.86   \n",
       "3  [['Beauty', 'Fragrance', \"Women's\", 'Eau de To...  52.33   \n",
       "4  [['Beauty', 'Fragrance', \"Women's\", 'Eau de Pa...    NaN   \n",
       "\n",
       "            salesRank                                              title  \n",
       "0   {'Beauty': 10486}  WAWO 15 Color Professionl Makeup Eyeshadow Cam...  \n",
       "1   {'Beauty': 52254}                  Xtreme Brite Brightening Gel 1oz.  \n",
       "2   {'Beauty': 78916}  Prada Candy By Prada Eau De Parfum Spray 1.7 O...  \n",
       "3     {'Beauty': 764}  Versace Bright Crystal Eau de Toilette Spray f...  \n",
       "4  {'Beauty': 142503}                            Stella McCartney Stella  "
      ]
     },
     "execution_count": 7,
     "metadata": {},
     "output_type": "execute_result"
    }
   ],
   "source": [
    "productDF = pd.read_csv(\"../data/product_sub.csv\")\n",
    "productDF.head(5)"
   ]
  },
  {
   "cell_type": "markdown",
   "metadata": {},
   "source": [
    "## 2. EDA"
   ]
  },
  {
   "cell_type": "code",
   "execution_count": 7,
   "metadata": {},
   "outputs": [
    {
     "name": "stdout",
     "output_type": "stream",
     "text": [
      "Number of users = 15007 | Number of items = 11347\n"
     ]
    }
   ],
   "source": [
    "n_users = beauty.reviewerID.unique().shape[0]\n",
    "n_items = beauty.asin.unique().shape[0]\n",
    "print ('Number of users = ' + str(n_users) + ' | Number of items = ' + str(n_items)  )"
   ]
  },
  {
   "cell_type": "code",
   "execution_count": 8,
   "metadata": {},
   "outputs": [
    {
     "data": {
      "text/plain": [
       "Text(0,0.5,'Number of ratings')"
      ]
     },
     "execution_count": 8,
     "metadata": {},
     "output_type": "execute_result"
    },
    {
     "data": {
      "image/png": "[encoded data removed]",
      "text/plain": [
       "<matplotlib.figure.Figure at 0x121c1c160>"
      ]
     },
     "metadata": {},
     "output_type": "display_data"
    }
   ],
   "source": [
    "import seaborn as sns\n",
    "import matplotlib.pyplot as plt\n",
    "plt.figure()\n",
    "sns.barplot(beauty.groupby(beauty.overall).count().index,beauty.groupby(beauty.overall).count().asin)\n",
    "plt.title('Customer Rating barplot')\n",
    "plt.ylabel('Number of ratings')"
   ]
  },
  {
   "cell_type": "code",
   "execution_count": 9,
   "metadata": {},
   "outputs": [],
   "source": [
    "# sns.distplot(helpful_ratio,norm_hist = True,kde = True,bins = 118)"
   ]
  },
  {
   "cell_type": "markdown",
   "metadata": {},
   "source": [
    "## 3. 协同过滤推荐系统\n",
    "\n",
    "1. Split the beauty_rating into training(70%) and test set(30%)\n",
    "2. Create a user-item matrix\n"
   ]
  },
  {
   "cell_type": "code",
   "execution_count": 10,
   "metadata": {},
   "outputs": [
    {
     "data": {
      "text/plain": [
       "(63867, 3)"
      ]
     },
     "execution_count": 10,
     "metadata": {},
     "output_type": "execute_result"
    }
   ],
   "source": [
    "beauty_rating.dropna(axis = 0, subset=['reviewerID'])\n",
    "from sklearn.model_selection import train_test_split\n",
    "training, test = train_test_split(beauty_rating, test_size = 0.3,random_state = 1)"
   ]
  },
  {
   "cell_type": "code",
   "execution_count": null,
   "metadata": {},
   "outputs": [],
   "source": [
    "# User-item matrix \n",
    "# training_matrix = training.pivot(index = 'reviewerID', columns ='asin', values = 'overall').fillna(np.nan)\n",
    "# ## Pearson\n",
    "# import time\n",
    "# tick = time.time()\n",
    "# training_pearson = training_matrix.T.corr(method = \"pearson\")\n",
    "# tock = time.time()\n",
    "# print(tock - tick)"
   ]
  },
  {
   "cell_type": "markdown",
   "metadata": {},
   "source": [
    "### Store the data in a dictionary"
   ]
  },
  {
   "cell_type": "code",
   "execution_count": 11,
   "metadata": {},
   "outputs": [],
   "source": [
    "listOfDictonaries=[]\n",
    "indexMap = {}\n",
    "reverseIndexMap = {}\n",
    "ptr=0;\n",
    "testdf=training[['reviewerID','overall']].groupby(training['asin'])\n",
    "for groupKey in testdf.groups.keys():\n",
    "    tempDict={}\n",
    "\n",
    "    groupDF = testdf.get_group(groupKey)\n",
    "    for i in range(0,len(groupDF)):\n",
    "        tempDict[groupDF.iloc[i,0]]=groupDF.iloc[i,1]\n",
    "    indexMap[ptr]=groupKey\n",
    "    reverseIndexMap[groupKey] = ptr\n",
    "    ptr=ptr+1\n",
    "    listOfDictonaries.append(tempDict)\n",
    "\n",
    "\n",
    "from sklearn.feature_extraction import DictVectorizer\n",
    "dictVectorizer = DictVectorizer(sparse=True)\n",
    "vector = dictVectorizer.fit_transform(listOfDictonaries)\n",
    "\n",
    "\n",
    "from sklearn.metrics.pairwise import cosine_similarity\n",
    "pairwiseSimilarity = cosine_similarity(vector)\n",
    "\n"
   ]
  },
  {
   "cell_type": "code",
   "execution_count": 17,
   "metadata": {},
   "outputs": [
    {
     "name": "stdout",
     "output_type": "stream",
     "text": [
      "-------INPUT ASIN---------------\n",
      "Title: [['Beauty', 'Bath & Body', 'Scrubs & Body Treatments', 'Body Scrubs']]\n",
      "PRODUCT: Argan Oil - 2 oz. - 100% Pure\n",
      "ASIN: B007SIF4BC\n",
      "=================++++++++++++++=========================\n",
      "-------RECOMMENDATIONS----------\n",
      "Title: [['Beauty', 'Skin Care', 'Body', 'Moisturizers', 'Body Butter']]\n",
      "PRODUCT: Mango Butter White Raw, 1 Lb\n",
      "ASIN: B00AEIVIGS\n",
      "=================++++++++++++++=========================\n",
      "Title: [['Beauty', 'Skin Care', 'Body', 'Moisturizers', 'Body Butter']]\n",
      "PRODUCT: 100% Raw Unrefined Organic Shea Butter - FREE Body Butter Recipes eBook - Best Organic African Grade A Yellow - Pure and Natural for Use on Skin and Hair - Rich in Vitamins A &amp; E - Use on Acne, Eczema, Stretch Marks, Rashes - Use As Belly Butter To Keep Mommy's Skin Soft And Supple, More Natural Than Popular Brand-Name Butters - Essential Ingredient for DIY Body Butters, Lotions, Soaps and Other Natural Skincare Recipes - 1LB (16oz)\n",
      "ASIN: B00D9NV20C\n",
      "=================++++++++++++++=========================\n",
      "Title: [['Beauty', 'Skin Care', 'Body', 'Moisturizers', 'Lotions']]\n",
      "PRODUCT: 100% Organic Raw Unrefined African Shea Butter- Grade A, Fair Trade, Premium Shea Butter From Ghana- Great Natural Skin Lotion- Naturally Rich in Vitamins a &amp; E - Unrefined Organic Shea Butter Is Extremely Nourishing and Perfect for Skin and Hair, in Homemade Soaps, Lotions and More- Net Weight 16oz (1lb)\n",
      "ASIN: B00LLPT4HI\n",
      "=================++++++++++++++=========================\n",
      "Title: [['Beauty', 'Makeup', 'Eyes', 'Mascara']]\n",
      "PRODUCT: Bare Escentuals Buxom Lash Mascara Black\n",
      "ASIN: B001NP5IK8\n",
      "=================++++++++++++++=========================\n",
      "Title: [['Beauty', 'Hair Care', 'Styling Products', 'Hair Sprays']]\n",
      "PRODUCT: Nick Chavez Amazon Hair Body Building Spray 10 oz.\n",
      "ASIN: B001O1XUDI\n",
      "=================++++++++++++++=========================\n"
     ]
    }
   ],
   "source": [
    "def printBookDetails(asin):\n",
    "    print(\"Title:\", productDF[productDF['asin']==asin]['categories'].values[0])\n",
    "    print(\"PRODUCT:\",productDF[productDF['asin']==asin]['title'].values[0])\n",
    "    print(\"ASIN:\",asin)\n",
    "    print(\"=================++++++++++++++=========================\")\n",
    "\n",
    "\n",
    "def getTopRecommandations(asin):\n",
    "    row = reverseIndexMap[asin]\n",
    "    print(\"-------INPUT ASIN---------------\")\n",
    "    printBookDetails(asin)\n",
    "    print(\"-------RECOMMENDATIONS----------\")\n",
    "    similarBookIDs = [printBookDetails(indexMap[i]) for i in np.argsort(pairwiseSimilarity[row])[-7:-2][::-1]]\n",
    "\n",
    "getTopRecommandations('B007SIF4BC')"
   ]
  }
 ],
 "metadata": {
  "kernelspec": {
   "display_name": "Python 3",
   "language": "python",
   "name": "python3"
  },
  "language_info": {
   "codemirror_mode": {
    "name": "ipython",
    "version": 3
   },
   "file_extension": ".py",
   "mimetype": "text/x-python",
   "name": "python",
   "nbconvert_exporter": "python",
   "pygments_lexer": "ipython3",
   "version": "3.6.4"
  }
 },
 "nbformat": 4,
 "nbformat_minor": 2
}
